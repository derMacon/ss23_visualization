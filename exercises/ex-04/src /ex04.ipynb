{
 "cells": [
  {
   "cell_type": "markdown",
   "metadata": {},
   "source": [
    "# Exercise 04\n",
    "\n",
    "## PCA on deformations\n",
    "Consider the square [−1, 1] ∈ R2 , discretized by a uniform grid with nPts = 15 points along each\n",
    "axis. The file UVData.npz contains an array UVData with dimensions nMaps × 2 × nPts × nPts.\n",
    "For each i in range(nMaps), the pair U,V = UVData[i] encodes a deformation of this grid, where\n",
    "U contains the horizontal and V the vertical coordinates. As reference, UVData.npz also contains\n",
    "the arrays X and Y that contain the original horizontal and vertical positions of the undeformed\n",
    "grid points."
   ]
  },
  {
   "cell_type": "markdown",
   "metadata": {},
   "source": [
    "1. Display the first five deformations, e.g. as in the figure below, left. Briefly comment on\n",
    "what types of deformations you can see."
   ]
  },
  {
   "cell_type": "code",
   "execution_count": null,
   "metadata": {
    "ExecuteTime": {
     "end_time": "2023-06-29T23:07:24.104137Z",
     "start_time": "2023-06-29T23:07:23.885172Z"
    },
    "pycharm": {
     "is_executing": true
    }
   },
   "outputs": [],
   "source": [
    "import numpy as np\n",
    "import matplotlib.pyplot as plt\n",
    "import matplotlib.cm as cm\n",
    "\n",
    "def getLines_new(uv_data, transformation_idx):\n",
    "    x = uv_data[transformation_idx][0]\n",
    "    y = uv_data[transformation_idx][1]\n",
    "\n",
    "    X = x.transpose()\n",
    "    Y = y.transpose()\n",
    "\n",
    "    return np.concatenate((X, x)), np.concatenate((Y, y))\n",
    "\n",
    "\n",
    "rng = [-1, 1]\n",
    "nLines = 15\n",
    "nPtsPerLine = 20\n",
    "\n",
    "uv_data = np.load('../material/UVData.npz')['UVData']\n",
    "\n",
    "fig = plt.figure(figsize=(8, 4))\n",
    "fig.add_subplot(1, 2, 1, aspect=1.)\n",
    "\n",
    "for i in range(5):\n",
    "    X, Y = getLines_new(uv_data, i)\n",
    "\n",
    "    for x, y in zip(X, Y):\n",
    "        plt.plot(x, y, c=\"k\")\n",
    "\n",
    "plt.show()\n"
   ]
  },
  {
   "cell_type": "markdown",
   "metadata": {},
   "source": [
    "2. Now apply PCA to the collection of deformations. Interpret each pair (U, V) as a one-\n",
    "dimensional vector of length 2 · nPoints2 , i.e. interpret UVData as two-dimensional array\n",
    "of dimension nMaps × (2 · nPoints2 ) and perform PCA on it, as in shown in the lecture.\n",
    "Visualize the eigenvalues and their cumulative sum. How many modes / eigenvalues are\n",
    "needed to capture at least 99% of the variance?\n",
    "Hint: Do not forget to center the data before applying PCA."
   ]
  },
  {
   "cell_type": "code",
   "execution_count": 4,
   "metadata": {
    "ExecuteTime": {
     "end_time": "2023-06-29T23:07:24.277636Z",
     "start_time": "2023-06-29T23:07:24.110929Z"
    }
   },
   "outputs": [
    {
     "data": {
      "image/png": "[encoded data removed]",
      "text/plain": [
       "<Figure size 640x480 with 1 Axes>"
      ]
     },
     "metadata": {},
     "output_type": "display_data"
    },
    {
     "name": "stdout",
     "output_type": "stream",
     "text": [
      "99 percent: i ==  3\n"
     ]
    }
   ],
   "source": [
    "def PCA(dataMat, keep=None):\n",
    "    nSamples, dim = dataMat.shape\n",
    "    if dim < nSamples:\n",
    "        if keep is None:\n",
    "            keep = dim\n",
    "        A = dataMat.transpose().dot(dataMat) / nSamples\n",
    "        eigData = np.linalg.eigh(A)\n",
    "        eigval = (eigData[0][-keep::])[::-1]\n",
    "        eigvec = ((eigData[1][:, -keep::]).transpose())[::-1]\n",
    "    else:\n",
    "        if keep is None:\n",
    "            keep = nSamples\n",
    "        A = dataMat.dot(dataMat.transpose()) / nSamples\n",
    "        eigData = np.linalg.eigh(A)\n",
    "        eigval = (eigData[0][-keep::])[::-1]\n",
    "        eigvec = ((eigData[1][:, -keep::]).transpose())[::-1]\n",
    "        eigvec = np.einsum(eigvec, [0, 1], dataMat, [1, 2], [0, 2])\n",
    "        normList = np.linalg.norm(eigvec, axis=1)\n",
    "        eigvec = np.einsum(eigvec, [0, 1], 1 / normList, [0], [0, 1])\n",
    "    return eigval, eigvec\n",
    "\n",
    "\n",
    "uv_data_flat = []\n",
    "for curr_uv_data in uv_data:\n",
    "    tmp = np.array(curr_uv_data).flatten()\n",
    "    uv_data_flat.append(tmp)\n",
    "\n",
    "uv_data_flat = np.array(uv_data_flat)\n",
    "uv_mean = np.mean(uv_data_flat, axis=0)\n",
    "uv_data_flat -= uv_mean\n",
    "\n",
    "eigval, eigvec = PCA(uv_data_flat)\n",
    "plt.scatter(np.arange(0, 100), eigval)\n",
    "plt.show()\n",
    "\n",
    "sum = np.sum(eigval)\n",
    "target = sum * 0.99\n",
    "\n",
    "i = 0\n",
    "while target >= 0 and i < eigval.shape[0]:\n",
    "    target -= eigval[i]\n",
    "    i += 1\n",
    "\n",
    "print('99 percent: i == ', i)\n"
   ]
  },
  {
   "cell_type": "markdown",
   "metadata": {},
   "source": []
  }
 ],
 "metadata": {
  "kernelspec": {
   "display_name": "Python 3 (ipykernel)",
   "language": "python",
   "name": "python3"
  },
  "language_info": {
   "codemirror_mode": {
    "name": "ipython",
    "version": 3
   },
   "file_extension": ".py",
   "mimetype": "text/x-python",
   "name": "python",
   "nbconvert_exporter": "python",
   "pygments_lexer": "ipython3",
   "version": "3.11.3"
  }
 },
 "nbformat": 4,
 "nbformat_minor": 1
}
